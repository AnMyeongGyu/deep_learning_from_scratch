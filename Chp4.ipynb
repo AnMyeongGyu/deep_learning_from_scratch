{
 "cells": [
  {
   "cell_type": "code",
   "execution_count": 17,
   "metadata": {},
   "outputs": [],
   "source": [
    "# sum of squares for error, SSE\n",
    "\n",
    "import numpy as np\n",
    "def sum_squares_error(y, t):\n",
    "    return 0.5 * np.sum((y-t)**2)"
   ]
  },
  {
   "cell_type": "code",
   "execution_count": 18,
   "metadata": {},
   "outputs": [
    {
     "name": "stdout",
     "output_type": "stream",
     "text": [
      "predict label is 2\n",
      "0.09750000000000003\n",
      "predict label is 9\n",
      "0.7967\n"
     ]
    }
   ],
   "source": [
    "# label's value is 2\n",
    "t = [0, 0, 1, 0, 0, 0, 0, 0, 0, 0]\n",
    "\n",
    "# 2 is the highest possibility of softmax function\n",
    "y = [0.1, 0.05, 0.6, 0.0, 0.05, 0.1, 0.0, 0.1, 0.0, 0.0]\n",
    "print('predict label is 2')\n",
    "print(sum_squares_error(np.array(y), np.array(t)))\n",
    "\n",
    "# 9 is the highest possibility of softmax function\n",
    "y = [0.01, 0.02, 0.03, 0.04, 0.02, 0.1, 0.0, 0.0, 0.0, 0.8]\n",
    "print('predict label is 9')\n",
    "print(sum_squares_error(np.array(y), np.array(t)))"
   ]
  },
  {
   "cell_type": "code",
   "execution_count": 19,
   "metadata": {},
   "outputs": [],
   "source": [
    "# cross entropy error, CEE\n",
    "# if y=0 np.log(y) go to -inf so we need to add a little value\n",
    "def cross_entropy_error(y, t):\n",
    "    delta = 1e-7\n",
    "    return -np.sum(t * np.log(y + delta))"
   ]
  },
  {
   "cell_type": "code",
   "execution_count": 20,
   "metadata": {},
   "outputs": [
    {
     "name": "stdout",
     "output_type": "stream",
     "text": [
      "predict label is 2\n",
      "0.510825457099338\n",
      "predict label is 9\n",
      "3.506554563992204\n"
     ]
    }
   ],
   "source": [
    "# cross entropy error, CEE\n",
    "# label's value is 2\n",
    "t = [0, 0, 1, 0, 0, 0, 0, 0, 0, 0]\n",
    "\n",
    "# 2 is the highest possibility of softmax function\n",
    "y = [0.1, 0.05, 0.6, 0.0, 0.05, 0.1, 0.0, 0.1, 0.0, 0.0]\n",
    "print('predict label is 2')\n",
    "print(cross_entropy_error(np.array(y), np.array(t)))\n",
    "\n",
    "# 9 is the highest possibility of softmax function\n",
    "y = [0.01, 0.02, 0.03, 0.04, 0.02, 0.1, 0.0, 0.0, 0.0, 0.8]\n",
    "print('predict label is 9')\n",
    "print(cross_entropy_error(np.array(y), np.array(t)))"
   ]
  },
  {
   "cell_type": "code",
   "execution_count": 21,
   "metadata": {},
   "outputs": [
    {
     "name": "stdout",
     "output_type": "stream",
     "text": [
      "(60000, 784)\n",
      "(60000, 10)\n"
     ]
    }
   ],
   "source": [
    "import sys, os\n",
    "\n",
    "sys.path.append('G:\\내 드라이브\\book\\Deep+learning_from_scratch')\n",
    "from dataset.mnist import load_mnist\n",
    "\n",
    "(x_train, t_train), (X_test, t_test) = load_mnist(normalize= True, one_hot_label= True)\n",
    "\n",
    "print(x_train.shape)\n",
    "print(t_train.shape)"
   ]
  },
  {
   "cell_type": "code",
   "execution_count": 24,
   "metadata": {},
   "outputs": [
    {
     "data": {
      "text/plain": [
       "array([23278, 12482, 24736, 37022, 10839, 38181, 13926, 52551, 15359,\n",
       "       49883])"
      ]
     },
     "execution_count": 24,
     "metadata": {},
     "output_type": "execute_result"
    }
   ],
   "source": [
    "# make 10 random dataset\n",
    "train_size = X_train.shape[0]\n",
    "batch_size = 10\n",
    "batch_mask = np.random.choice(train_size, batch_size)\n",
    "x_batch = x_train[batch_mask]\n",
    "t_batch = t_train[batch_mask]\n",
    "\n",
    "np.random.choice(60000,10)"
   ]
  },
  {
   "cell_type": "code",
   "execution_count": 25,
   "metadata": {},
   "outputs": [],
   "source": [
    "# cross_entropy_error for batch\n",
    "# this code is label(one-hot-encoding)\n",
    "def cross_entropy_error(y, t):\n",
    "    if y.ndim == 1:\n",
    "        t = t.reshape(1, t.size)\n",
    "        y = y.reshape(1, y.size)\n",
    "\n",
    "        batch_size = y.shape[0]\n",
    "        return -np.sum(t * np.log(y + 1e-07)) / batch_size"
   ]
  },
  {
   "cell_type": "code",
   "execution_count": null,
   "metadata": {},
   "outputs": [],
   "source": []
  }
 ],
 "metadata": {
  "kernelspec": {
   "display_name": "base",
   "language": "python",
   "name": "python3"
  },
  "language_info": {
   "codemirror_mode": {
    "name": "ipython",
    "version": 3
   },
   "file_extension": ".py",
   "mimetype": "text/x-python",
   "name": "python",
   "nbconvert_exporter": "python",
   "pygments_lexer": "ipython3",
   "version": "3.9.13"
  },
  "orig_nbformat": 4
 },
 "nbformat": 4,
 "nbformat_minor": 2
}
